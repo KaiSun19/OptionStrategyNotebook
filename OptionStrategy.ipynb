{
  "cells": [
    {
      "cell_type": "code",
      "source": [
        "!pip install yfinance --upgrade --no-cache-dir"
      ],
      "metadata": {
        "colab": {
          "base_uri": "https://localhost:8080/"
        },
        "collapsed": true,
        "id": "c8qaynaI0qCG",
        "outputId": "c0acb42b-6e41-4e7e-fe57-a744ef36fffd"
      },
      "execution_count": 1,
      "outputs": [
        {
          "output_type": "stream",
          "name": "stdout",
          "text": [
            "Requirement already satisfied: yfinance in /usr/local/lib/python3.11/dist-packages (0.2.55)\n",
            "Requirement already satisfied: pandas>=1.3.0 in /usr/local/lib/python3.11/dist-packages (from yfinance) (2.2.2)\n",
            "Requirement already satisfied: numpy>=1.16.5 in /usr/local/lib/python3.11/dist-packages (from yfinance) (2.0.2)\n",
            "Requirement already satisfied: requests>=2.31 in /usr/local/lib/python3.11/dist-packages (from yfinance) (2.32.3)\n",
            "Requirement already satisfied: multitasking>=0.0.7 in /usr/local/lib/python3.11/dist-packages (from yfinance) (0.0.11)\n",
            "Requirement already satisfied: platformdirs>=2.0.0 in /usr/local/lib/python3.11/dist-packages (from yfinance) (4.3.7)\n",
            "Requirement already satisfied: pytz>=2022.5 in /usr/local/lib/python3.11/dist-packages (from yfinance) (2025.2)\n",
            "Requirement already satisfied: frozendict>=2.3.4 in /usr/local/lib/python3.11/dist-packages (from yfinance) (2.4.6)\n",
            "Requirement already satisfied: peewee>=3.16.2 in /usr/local/lib/python3.11/dist-packages (from yfinance) (3.17.9)\n",
            "Requirement already satisfied: beautifulsoup4>=4.11.1 in /usr/local/lib/python3.11/dist-packages (from yfinance) (4.13.3)\n",
            "Requirement already satisfied: soupsieve>1.2 in /usr/local/lib/python3.11/dist-packages (from beautifulsoup4>=4.11.1->yfinance) (2.6)\n",
            "Requirement already satisfied: typing-extensions>=4.0.0 in /usr/local/lib/python3.11/dist-packages (from beautifulsoup4>=4.11.1->yfinance) (4.13.1)\n",
            "Requirement already satisfied: python-dateutil>=2.8.2 in /usr/local/lib/python3.11/dist-packages (from pandas>=1.3.0->yfinance) (2.8.2)\n",
            "Requirement already satisfied: tzdata>=2022.7 in /usr/local/lib/python3.11/dist-packages (from pandas>=1.3.0->yfinance) (2025.2)\n",
            "Requirement already satisfied: charset-normalizer<4,>=2 in /usr/local/lib/python3.11/dist-packages (from requests>=2.31->yfinance) (3.4.1)\n",
            "Requirement already satisfied: idna<4,>=2.5 in /usr/local/lib/python3.11/dist-packages (from requests>=2.31->yfinance) (3.10)\n",
            "Requirement already satisfied: urllib3<3,>=1.21.1 in /usr/local/lib/python3.11/dist-packages (from requests>=2.31->yfinance) (2.3.0)\n",
            "Requirement already satisfied: certifi>=2017.4.17 in /usr/local/lib/python3.11/dist-packages (from requests>=2.31->yfinance) (2025.1.31)\n",
            "Requirement already satisfied: six>=1.5 in /usr/local/lib/python3.11/dist-packages (from python-dateutil>=2.8.2->pandas>=1.3.0->yfinance) (1.17.0)\n"
          ]
        }
      ]
    },
    {
      "cell_type": "code",
      "source": [
        "pip install yahooquery"
      ],
      "metadata": {
        "colab": {
          "base_uri": "https://localhost:8080/"
        },
        "collapsed": true,
        "id": "Uy1nH1PWY5WQ",
        "outputId": "d3cc5891-3a43-4420-9dbb-76a7d1e9ca99"
      },
      "execution_count": 2,
      "outputs": [
        {
          "output_type": "stream",
          "name": "stdout",
          "text": [
            "Collecting yahooquery\n",
            "  Downloading yahooquery-2.3.7-py3-none-any.whl.metadata (5.0 kB)\n",
            "Requirement already satisfied: beautifulsoup4<5.0.0,>=4.12.2 in /usr/local/lib/python3.11/dist-packages (from yahooquery) (4.13.3)\n",
            "Collecting lxml<5.0.0,>=4.9.3 (from yahooquery)\n",
            "  Downloading lxml-4.9.4-cp311-cp311-manylinux_2_28_x86_64.whl.metadata (3.7 kB)\n",
            "Requirement already satisfied: pandas<3.0.0,>=2.0.3 in /usr/local/lib/python3.11/dist-packages (from yahooquery) (2.2.2)\n",
            "Requirement already satisfied: requests<3.0.0,>=2.31.0 in /usr/local/lib/python3.11/dist-packages (from yahooquery) (2.32.3)\n",
            "Collecting requests-futures<2.0.0,>=1.0.1 (from yahooquery)\n",
            "  Downloading requests_futures-1.0.2-py2.py3-none-any.whl.metadata (12 kB)\n",
            "Requirement already satisfied: tqdm<5.0.0,>=4.65.0 in /usr/local/lib/python3.11/dist-packages (from yahooquery) (4.67.1)\n",
            "Requirement already satisfied: soupsieve>1.2 in /usr/local/lib/python3.11/dist-packages (from beautifulsoup4<5.0.0,>=4.12.2->yahooquery) (2.6)\n",
            "Requirement already satisfied: typing-extensions>=4.0.0 in /usr/local/lib/python3.11/dist-packages (from beautifulsoup4<5.0.0,>=4.12.2->yahooquery) (4.13.1)\n",
            "Requirement already satisfied: numpy>=1.23.2 in /usr/local/lib/python3.11/dist-packages (from pandas<3.0.0,>=2.0.3->yahooquery) (2.0.2)\n",
            "Requirement already satisfied: python-dateutil>=2.8.2 in /usr/local/lib/python3.11/dist-packages (from pandas<3.0.0,>=2.0.3->yahooquery) (2.8.2)\n",
            "Requirement already satisfied: pytz>=2020.1 in /usr/local/lib/python3.11/dist-packages (from pandas<3.0.0,>=2.0.3->yahooquery) (2025.2)\n",
            "Requirement already satisfied: tzdata>=2022.7 in /usr/local/lib/python3.11/dist-packages (from pandas<3.0.0,>=2.0.3->yahooquery) (2025.2)\n",
            "Requirement already satisfied: charset-normalizer<4,>=2 in /usr/local/lib/python3.11/dist-packages (from requests<3.0.0,>=2.31.0->yahooquery) (3.4.1)\n",
            "Requirement already satisfied: idna<4,>=2.5 in /usr/local/lib/python3.11/dist-packages (from requests<3.0.0,>=2.31.0->yahooquery) (3.10)\n",
            "Requirement already satisfied: urllib3<3,>=1.21.1 in /usr/local/lib/python3.11/dist-packages (from requests<3.0.0,>=2.31.0->yahooquery) (2.3.0)\n",
            "Requirement already satisfied: certifi>=2017.4.17 in /usr/local/lib/python3.11/dist-packages (from requests<3.0.0,>=2.31.0->yahooquery) (2025.1.31)\n",
            "Requirement already satisfied: six>=1.5 in /usr/local/lib/python3.11/dist-packages (from python-dateutil>=2.8.2->pandas<3.0.0,>=2.0.3->yahooquery) (1.17.0)\n",
            "Downloading yahooquery-2.3.7-py3-none-any.whl (52 kB)\n",
            "\u001b[2K   \u001b[90m━━━━━━━━━━━━━━━━━━━━━━━━━━━━━━━━━━━━━━━━\u001b[0m \u001b[32m52.7/52.7 kB\u001b[0m \u001b[31m1.8 MB/s\u001b[0m eta \u001b[36m0:00:00\u001b[0m\n",
            "\u001b[?25hDownloading lxml-4.9.4-cp311-cp311-manylinux_2_28_x86_64.whl (7.9 MB)\n",
            "\u001b[2K   \u001b[90m━━━━━━━━━━━━━━━━━━━━━━━━━━━━━━━━━━━━━━━━\u001b[0m \u001b[32m7.9/7.9 MB\u001b[0m \u001b[31m41.1 MB/s\u001b[0m eta \u001b[36m0:00:00\u001b[0m\n",
            "\u001b[?25hDownloading requests_futures-1.0.2-py2.py3-none-any.whl (7.7 kB)\n",
            "Installing collected packages: lxml, requests-futures, yahooquery\n",
            "  Attempting uninstall: lxml\n",
            "    Found existing installation: lxml 5.3.1\n",
            "    Uninstalling lxml-5.3.1:\n",
            "      Successfully uninstalled lxml-5.3.1\n",
            "Successfully installed lxml-4.9.4 requests-futures-1.0.2 yahooquery-2.3.7\n"
          ]
        }
      ]
    },
    {
      "cell_type": "markdown",
      "source": [
        "# Git commands"
      ],
      "metadata": {
        "id": "gc7EtcGbsc1T"
      }
    },
    {
      "cell_type": "code",
      "source": [
        "!git init"
      ],
      "metadata": {
        "collapsed": true,
        "id": "c4wTf7gnyi1n",
        "outputId": "a2b1eeff-48d3-4a3f-a05a-f9dfd00fc7c0",
        "colab": {
          "base_uri": "https://localhost:8080/"
        }
      },
      "execution_count": null,
      "outputs": [
        {
          "output_type": "stream",
          "name": "stdout",
          "text": [
            "\u001b[33mhint: Using 'master' as the name for the initial branch. This default branch name\u001b[m\n",
            "\u001b[33mhint: is subject to change. To configure the initial branch name to use in all\u001b[m\n",
            "\u001b[33mhint: of your new repositories, which will suppress this warning, call:\u001b[m\n",
            "\u001b[33mhint: \u001b[m\n",
            "\u001b[33mhint: \tgit config --global init.defaultBranch <name>\u001b[m\n",
            "\u001b[33mhint: \u001b[m\n",
            "\u001b[33mhint: Names commonly chosen instead of 'master' are 'main', 'trunk' and\u001b[m\n",
            "\u001b[33mhint: 'development'. The just-created branch can be renamed via this command:\u001b[m\n",
            "\u001b[33mhint: \u001b[m\n",
            "\u001b[33mhint: \tgit branch -m <name>\u001b[m\n",
            "Initialized empty Git repository in /content/.git/\n"
          ]
        }
      ]
    },
    {
      "cell_type": "code",
      "source": [
        "!git remote add origin https://github.com/KaiSun19/OptionStrategyNotebook.git"
      ],
      "metadata": {
        "id": "gyzdaUK3AV6e"
      },
      "execution_count": null,
      "outputs": []
    },
    {
      "cell_type": "code",
      "source": [
        "!git config --global user.email \"yksun15@gmail.com\"\n",
        "!git config --global user.name \"KaiSun19\""
      ],
      "metadata": {
        "id": "pXYlOte8AyU1"
      },
      "execution_count": null,
      "outputs": []
    },
    {
      "cell_type": "code",
      "source": [
        "!git branch -M main"
      ],
      "metadata": {
        "id": "tQEPL1kjBAad"
      },
      "execution_count": null,
      "outputs": []
    },
    {
      "cell_type": "code",
      "source": [
        "!git add ."
      ],
      "metadata": {
        "id": "mXXe5-_NBHFt"
      },
      "execution_count": null,
      "outputs": []
    },
    {
      "cell_type": "code",
      "source": [
        "!git status"
      ],
      "metadata": {
        "colab": {
          "base_uri": "https://localhost:8080/"
        },
        "id": "ImC7Wsp3BKGd",
        "outputId": "1d194dfe-a4d5-46bf-d48a-6119622c5e29",
        "collapsed": true
      },
      "execution_count": null,
      "outputs": [
        {
          "output_type": "stream",
          "name": "stdout",
          "text": [
            "On branch master\n",
            "\n",
            "No commits yet\n",
            "\n",
            "Changes to be committed:\n",
            "  (use \"git rm --cached <file>...\" to unstage)\n",
            "\t\u001b[32mnew file:   .config/.last_opt_in_prompt.yaml\u001b[m\n",
            "\t\u001b[32mnew file:   .config/.last_survey_prompt.yaml\u001b[m\n",
            "\t\u001b[32mnew file:   .config/.last_update_check.json\u001b[m\n",
            "\t\u001b[32mnew file:   .config/active_config\u001b[m\n",
            "\t\u001b[32mnew file:   .config/config_sentinel\u001b[m\n",
            "\t\u001b[32mnew file:   .config/configurations/config_default\u001b[m\n",
            "\t\u001b[32mnew file:   .config/default_configs.db\u001b[m\n",
            "\t\u001b[32mnew file:   .config/gce\u001b[m\n",
            "\t\u001b[32mnew file:   .config/hidden_gcloud_config_universe_descriptor_data_cache_configs.db\u001b[m\n",
            "\t\u001b[32mnew file:   .config/logs/2025.04.03/13.36.12.967744.log\u001b[m\n",
            "\t\u001b[32mnew file:   .config/logs/2025.04.03/13.36.38.976090.log\u001b[m\n",
            "\t\u001b[32mnew file:   .config/logs/2025.04.03/13.36.48.370498.log\u001b[m\n",
            "\t\u001b[32mnew file:   .config/logs/2025.04.03/13.36.52.007481.log\u001b[m\n",
            "\t\u001b[32mnew file:   .config/logs/2025.04.03/13.37.01.149089.log\u001b[m\n",
            "\t\u001b[32mnew file:   .config/logs/2025.04.03/13.37.01.876958.log\u001b[m\n",
            "\t\u001b[32mnew file:   sample_data/README.md\u001b[m\n",
            "\t\u001b[32mnew file:   sample_data/anscombe.json\u001b[m\n",
            "\t\u001b[32mnew file:   sample_data/california_housing_test.csv\u001b[m\n",
            "\t\u001b[32mnew file:   sample_data/california_housing_train.csv\u001b[m\n",
            "\t\u001b[32mnew file:   sample_data/mnist_test.csv\u001b[m\n",
            "\t\u001b[32mnew file:   sample_data/mnist_train_small.csv\u001b[m\n",
            "\n"
          ]
        }
      ]
    },
    {
      "cell_type": "code",
      "source": [
        "!git commit -m \"initial commit from google colab\""
      ],
      "metadata": {
        "colab": {
          "base_uri": "https://localhost:8080/"
        },
        "id": "RLLxEAQ0ArmF",
        "outputId": "6714de78-2aca-441d-b466-91e4be45bc69",
        "collapsed": true
      },
      "execution_count": null,
      "outputs": [
        {
          "output_type": "stream",
          "name": "stdout",
          "text": [
            "On branch master\n",
            "\n",
            "Initial commit\n",
            "\n",
            "Untracked files:\n",
            "  (use \"git add <file>...\" to include in what will be committed)\n",
            "\t\u001b[31m.config/\u001b[m\n",
            "\t\u001b[31msample_data/\u001b[m\n",
            "\n",
            "nothing added to commit but untracked files present (use \"git add\" to track)\n"
          ]
        }
      ]
    },
    {
      "cell_type": "code",
      "execution_count": 3,
      "metadata": {
        "id": "25Dx9GP9z_3u"
      },
      "outputs": [],
      "source": [
        "import datetime, time\n",
        "from datetime import timedelta, datetime\n",
        "import requests\n",
        "import pandas as pd\n",
        "import os.path\n",
        "from os import path\n",
        "import yfinance as yf\n",
        "from yahooquery import Ticker\n",
        "import matplotlib.pyplot as plt\n",
        "import seaborn as sns\n",
        "\n",
        "import numpy as np\n",
        "from scipy.stats import norm\n",
        "from pandas_datareader import data as pdr\n",
        "import re\n",
        "import json\n",
        "import uuid\n",
        "import firebase_admin\n",
        "from firebase_admin import firestore, credentials\n",
        "import time"
      ]
    },
    {
      "cell_type": "code",
      "source": [
        "etfs_list = ['SPY', 'QQQ', 'IWM', 'XLI', 'TQQQ','SOXL', 'HYG', 'TLT']\n",
        "stocks_list = ['NVDA', 'TSLA', 'MSTR', 'AVGO','AAPL','PLTR', 'META', 'AMD']\n",
        "symbols_list = stocks_list + etfs_list\n",
        "required_columns = ['contractSymbol', 'strike', 'lastPrice', 'change', 'volume', 'impliedVolatility']\n",
        "raw_option_data_indexes = ['symbol', 'expiration', 'optionType']"
      ],
      "metadata": {
        "id": "FjVVxCjO_ll_"
      },
      "execution_count": 4,
      "outputs": []
    },
    {
      "cell_type": "code",
      "source": [
        "#general methods\n",
        "def weighted_avg(data,opening_trades):\n",
        "  return (data[0] * (opening_trades[0]/sum(opening_trades))) + (data[1] * (opening_trades[1]/sum(opening_trades))) + (data[2] * (opening_trades[2]/sum(opening_trades)))\n",
        "def loading_stat(data, data_list):\n",
        "  print(str(data) + ' ' +  str(round((data_list.index(data)/len(data_list) * 100),2)) + ' ' + '% done' )\n",
        "def get_vol(symbol, period = '41d'):\n",
        "  raw_price = pdr.get_data_yahoo(symbol, period = period).Close\n",
        "  # log_returns = np.log1p(raw_price.pct_change())\n",
        "  vol = np.std(raw_price)\n",
        "  return vol\n",
        "def get_future_date(days_from_today):\n",
        "  today = datetime.today()\n",
        "  future_date = today + timedelta(days=days_from_today)\n",
        "  return future_date.strftime(\"%Y-%m-%d\")\n",
        "def get_current_price(symbol, period='1d'):\n",
        "  try:\n",
        "    return yf.download(symbol, period=period)['Close'].iloc[0][symbol.upper()]\n",
        "  except Exception as e:\n",
        "    print(f\"Error retrieving price for {symbol}: {e}\")\n",
        "    return None\n",
        "def start_point(symbol, option_type = 'c'):\n",
        "  abs_start_diff = get_vol(symbol) / 3\n",
        "  if option_type == 'c':\n",
        "    return  round(pdr.get_data_yahoo(symbol, period = '5d').Close.iloc[-1] + abs_start_diff,2)\n",
        "  elif option_type == 'p':\n",
        "    return round(pdr.get_data_yahoo(symbol, period = '5d').Close.iloc[-1] - abs_start_diff,2)\n",
        "def get_ivrank(symbol):\n",
        "  loading_stat(symbol, assets_list)\n",
        "  url = \"https://marketchameleon.com/Overview/EWZ/IV/\"\n",
        "  r = requests.get(url)\n",
        "  soup=bs4.BeautifulSoup(r.text, \"lxml\")\n",
        "  print(soup)\n",
        "  vol = soup.find_all(\"div\", {\"class\" : \"ov-head-stat\"}).find_all()\n",
        "  print(vol)\n",
        "def valid_url(symbol):\n",
        "  exchange_list = [ \"ARCA\",\"NASDAQ\",\"NYSE\"]\n",
        "  tests =[]\n",
        "  for x in exchange_list:\n",
        "    url = \"https://omnieq.com/underlyings/\" + x + \"/\" + symbol\n",
        "    r = requests.get(url)\n",
        "    soup=bs4.BeautifulSoup(r.text, \"lxml\")\n",
        "    test = soup.find_all(\"title\")[0].text\n",
        "    tests.append(test)\n",
        "  loop1 = True\n",
        "  ind = 0\n",
        "  while loop1 == True:\n",
        "    test = tests[ind]\n",
        "    if test != \"Page Not Found\":\n",
        "      loop1 = False\n",
        "    else:\n",
        "      ind += 1\n",
        "  exchange = exchange_list[ind]\n",
        "  return exchange\n",
        "def generate_uuid():\n",
        "  return str(uuid.uuid4())"
      ],
      "metadata": {
        "id": "tR-gcd2fXb1k"
      },
      "execution_count": 5,
      "outputs": []
    },
    {
      "cell_type": "code",
      "source": [
        "#methods for analysing options data\n",
        "def get_raw_options_data(symbol):\n",
        "  return Ticker(symbol).option_chain\n",
        "\n",
        "def get_expiration_dates(raw_options_df, date_range, inRange= False):\n",
        "  dates = [x.strftime('%Y-%m-%d') for x in raw_options_df.index.get_level_values('expiration').unique()]\n",
        "  if inRange:\n",
        "    start_date = datetime.strptime(date_range[0], '%Y-%m-%d').date()\n",
        "    end_date = datetime.strptime(date_range[1], '%Y-%m-%d').date()\n",
        "\n",
        "    dates = [date for date in dates if start_date <= datetime.strptime(date, '%Y-%m-%d').date() <= end_date]\n",
        "  return dates\n",
        "\n",
        "def get_type_from_ticket(ticker):\n",
        "  ticker_length = len(ticker)\n",
        "  while ticker_length > 1 :\n",
        "    if ticker[ticker_length - 1] == 'P':\n",
        "      return 'put'\n",
        "    elif ticker[ticker_length - 1] == 'C':\n",
        "      return 'call'\n",
        "    else:\n",
        "      ticker_length -= 1\n",
        "  return 'na'\n",
        "\n",
        "def get_days_till_expiry(expiration_date):\n",
        "  days = (datetime.strptime(expiration_date, '%Y-%m-%d')  - datetime.today()).days\n",
        "  if days > 0:\n",
        "    return days\n",
        "  else:\n",
        "    return 0.001\n",
        "def risk_free_rate():\n",
        "  \"\"\"\n",
        "  Returns the interest rate of a US Treasury 1-year bond using yfinance.\n",
        "  \"\"\"\n",
        "  try:\n",
        "    ticker = yf.Ticker('^FVX')\n",
        "    data = ticker.history(period=\"1d\")\n",
        "    if not data.empty:\n",
        "      interest_rate = data['Close'].iloc[0]/100\n",
        "      return interest_rate\n",
        "    else:\n",
        "      print(\"Could not retrieve Treasury bond data.\")\n",
        "      return None\n",
        "  except Exception as e:\n",
        "    print(f\"An error occurred: {e}\")\n",
        "    return None\n",
        "def tune_risk_free_rate(start, real_delta):\n",
        "  risk_free_rate = start\n",
        "  delta = get_delta(stock_price, strike_price, tte, risk_free_rate, iv, 'put')\n",
        "  while abs(delta - real_delta) > 0.0:\n",
        "    delta = get_delta(stock_price, strike_price, tte, risk_free_rate, iv, 'put')\n",
        "    if delta > real_delta:\n",
        "      risk_free_rate -= 0.01\n",
        "    else:\n",
        "      risk_free_rate += 0.01\n",
        "    print(risk_free_rate)\n",
        "  return risk_free_rate\n",
        "def get_delta(S, K, T, r, sigma, option_type='call'):\n",
        "    d1 = (np.log(S / K) + (r + 0.5 * sigma**2) * T) / (sigma * np.sqrt(T))\n",
        "    return np.round(norm.cdf(d1) if option_type == 'call' else norm.cdf(d1) - 1, 3)\n",
        "\n",
        "def calculate_correlation_matrix(stock_list):\n",
        "  stock_data = {}\n",
        "  for symbol in stock_list:\n",
        "    stock_data[symbol] = np.array(yf.download(symbol, period='1y')['Close'][symbol])\n",
        "  df = pd.DataFrame(stock_data)\n",
        "  df = df.dropna()\n",
        "  correlation_matrix = df.corr()\n",
        "  fig, ax = plt.subplots(figsize=(12, 12))\n",
        "  return sns.heatmap(correlation_matrix, annot=True, ax=ax)\n",
        "\n",
        "def create_high_correlation_df(correlation_matrix, threshold=0.9):\n",
        "\n",
        "  mask = correlation_matrix > threshold\n",
        "\n",
        "  high_correlation_df = correlation_matrix[mask].stack().reset_index()\n",
        "  high_correlation_df = high_correlation_df[high_correlation_df['level_0'] != high_correlation_df['level_1']]\n",
        "\n",
        "  high_correlation_df.columns = ['Asset1', 'Asset2', 'Correlation']\n",
        "\n",
        "  return high_correlation_df"
      ],
      "metadata": {
        "collapsed": true,
        "id": "NKFj0i1TZJ2-"
      },
      "execution_count": 6,
      "outputs": []
    },
    {
      "cell_type": "code",
      "source": [
        "#code to access firebase\n",
        "\n",
        "if not firebase_admin._apps:\n",
        "  cred = credentials.Certificate(\"/content/optionsdata-5dc59-firebase-adminsdk-fbsvc-7c5da01f8d.json\")\n",
        "\n",
        "  # Application Default credentials are automatically created.\n",
        "  app = firebase_admin.initialize_app(cred)\n",
        "else:\n",
        "  app = firebase_admin.get_app()\n",
        "db = firestore.client(app)"
      ],
      "metadata": {
        "id": "9xwe2WzrMeFW"
      },
      "execution_count": null,
      "outputs": []
    },
    {
      "cell_type": "code",
      "source": [
        "#method to upload option data\n",
        "\n",
        "def get_option_chains_to_upload(symbol):\n",
        "  raw_options_chains = get_raw_options_data(symbol)\n",
        "  option_expiration_dates = get_expiration_dates(raw_options_chains)\n",
        "  current_date = time.strftime(\"%Y-%m-%d\")\n",
        "  option_data_final = []\n",
        "  for date in option_expiration_dates:\n",
        "    option_chain_filtered_df = raw_options_chains.loc[symbol, date][required_columns]\n",
        "    option_chain_filtered_df['contractType'] = option_chain_filtered_df['contractSymbol'].apply(lambda x : get_type_from_ticket(x))\n",
        "    option_data_final.append({ date : option_chain_filtered_df.reset_index(drop=True)})\n",
        "  return option_data_final\n",
        "\n",
        "def upload_daily_data(symbol):\n",
        "  if db.collection(symbol).document(datetime.today().strftime('%d-%m-%Y')).get().exists:\n",
        "    print('data already uploaded')\n",
        "    return\n",
        "  option_chains = get_option_chains_to_upload(symbol)\n",
        "  batch = db.batch()\n",
        "  batch_size = 100\n",
        "  count = 0\n",
        "  rate_limit_secs = 1\n",
        "\n",
        "  for obj in option_chains:\n",
        "    exp_date_key = list(obj.keys())[0]\n",
        "    ticket_level_dict = {}\n",
        "    for row in obj[exp_date_key].iterrows():\n",
        "      ticket_level_dict[row[1]['contractSymbol']] = json.loads(row[1][['strike', 'lastPrice', 'volume', 'impliedVolatility', 'contractType']].to_json())\n",
        "    doc_ref = db.collection(symbol).document(datetime.today().strftime('%d-%m-%Y')).collection(exp_date_key).document(generate_uuid())\n",
        "    batch.set(doc_ref, ticket_level_dict)\n",
        "    count += 1\n",
        "    if count >= batch_size:\n",
        "        batch.commit()\n",
        "        batch = db.batch()\n",
        "        count = 0\n",
        "  time.sleep(rate_limit_secs)\n",
        "  # Commit any remaining writes in the last batch\n",
        "  if count > 0:\n",
        "      batch.commit()"
      ],
      "metadata": {
        "id": "ZibeDRJLKbx-",
        "collapsed": true
      },
      "execution_count": 7,
      "outputs": []
    },
    {
      "cell_type": "code",
      "source": [
        "def get_filtered_option_chain(raw_data, filters):\n",
        "  filtered_data = raw_data\n",
        "  if not isinstance(filtered_data.index, pd.MultiIndex):\n",
        "    filtered_data = filtered_data.set_index(raw_option_data_indexes)\n",
        "\n",
        "  for filter in filters:\n",
        "    if filter['data_type'] in raw_option_data_indexes:\n",
        "      if filter['op'] == '=':\n",
        "        filtered_data = filtered_data.loc[filtered_data.index.get_level_values(filter['data_type']) == filter['target']]\n",
        "      elif filter['op'] == '!=':\n",
        "        filtered_data = filtered_data.loc[filtered_data.index.get_level_values(filter['data_type']) != filter['target']]\n",
        "      elif filter['op'] == '>=':\n",
        "        filtered_data = filtered_data.loc[filtered_data.index.get_level_values(filter['data_type']) >= filter['target']]\n",
        "      elif filter['op'] == '<=':\n",
        "        filtered_data = filtered_data.loc[filtered_data.index.get_level_values(filter['data_type']) <= filter['target']]\n",
        "      else:\n",
        "        filtered_data = filtered_data.loc[filtered_data.index.get_level_values(filter['data_type']) == filter['target']]\n",
        "    else:\n",
        "      if filter['op'] == '=':\n",
        "        filtered_data = filtered_data[filtered_data[filter['data_type']] == filter['target']]\n",
        "      elif filter['op'] == '!=':\n",
        "        filtered_data = filtered_data[filtered_data[filter['data_type']] != filter['target']]\n",
        "      elif filter['op'] == '>=':\n",
        "        filtered_data = filtered_data[filtered_data[filter['data_type']] >= filter['target']]\n",
        "      elif filter['op'] == '<=':\n",
        "        filtered_data = filtered_data[filtered_data[filter['data_type']] <= filter['target']]\n",
        "      else:\n",
        "        filtered_data = filtered_data[filtered_data[filter['data_type']] == filter['target']]\n",
        "  filtered_df = filtered_data[required_columns].reset_index(drop=True)\n",
        "  return filtered_df\n",
        "\n",
        "def strike_price_within_delta(option_chain_df, delta_limit ,option_type):\n",
        "  first_ticker = option_chain_df.iloc[0]['contractSymbol']\n",
        "  expiry_match = re.search(r'(\\d{6}[CP])', first_ticker)\n",
        "  expiry_date_str = expiry_match.group(1)\n",
        "  expiry_date = expiry_date_str[:2] + '-' + expiry_date_str[2:4] + '-' + expiry_date_str[4:]\n",
        "  expiry_date = '20' + expiry_date[:-1]\n",
        "  delta = 0\n",
        "  index = 0\n",
        "  current_stock_price = get_current_price('spy')\n",
        "  tte = get_days_till_expiry(expiry_date)/365\n",
        "  rfe = risk_free_rate()\n",
        "  if option_type == 'put':\n",
        "    while delta > delta_limit:\n",
        "      delta = get_delta(current_stock_price, option_chain_df['strike'].iloc[index], tte , rfe, option_chain_df['impliedVolatility'].iloc[index], option_type)\n",
        "      index += 1\n",
        "  return option_chain_df.iloc[index - 1]['strike']"
      ],
      "metadata": {
        "id": "FvGtrlDb2bRR"
      },
      "execution_count": 8,
      "outputs": []
    },
    {
      "cell_type": "code",
      "source": [
        "def get_vertical_spread_stats(short_price, long_price, short_strike , long_strike):\n",
        "  max_return = (short_price - long_price) * 100\n",
        "  max_risk = ((short_strike - long_strike) * 100) - max_return\n",
        "  if max_risk == 0:\n",
        "    rnr = 0\n",
        "  else:\n",
        "    rnr = max_return / max_risk\n",
        "  return {'return' : max_return, 'risk': max_risk ,'rnr': rnr}\n",
        "\n",
        "def get_optimal_vertical_spread(symbol, option_type, expiration_date, start_strike, max_risk):\n",
        "  option_chain = get_filtered_option_chain(raw_data, [\n",
        "      {'data_type' : 'symbol', 'op' : '=', 'target' : symbol},\n",
        "      {'data_type' : 'expiration', 'op' : '=', 'target' : expiration_date},\n",
        "      {'data_type' : 'optionType', 'op' : '=', 'target' : option_type},\n",
        "      {'data_type' : 'strike', 'op' : '<=', 'target' : start_strike}\n",
        "      ])\n",
        "  correct_option_type = 'put' if option_type == 'puts' else 'call'\n",
        "  if correct_option_type == 'put':\n",
        "    option_chain = option_chain.sort_values(by='strike', ascending=False).reset_index(drop=True)\n",
        "\n",
        "  current_risk = 0\n",
        "  current_rnr = 0\n",
        "  long_index = 0\n",
        "  for index in range(1, len(option_chain)):\n",
        "    if current_risk > max_risk:\n",
        "      return {\n",
        "          'short_strike' :option_chain.iloc[0]['strike'] ,\n",
        "          'short_price' : option_chain.iloc[0]['lastPrice'],\n",
        "          'long_strike' : option_chain.iloc[long_index - 1]['strike'],\n",
        "          'long_price' : option_chain.iloc[long_index -1 ]['lastPrice']\n",
        "          }\n",
        "    stats = get_vertical_spread_stats(\n",
        "        option_chain.iloc[0]['lastPrice'],\n",
        "        option_chain.iloc[index]['lastPrice'],\n",
        "        option_chain.iloc[0]['strike'],\n",
        "        option_chain.iloc[index]['strike']\n",
        "    )\n",
        "    current_risk = stats['risk']\n",
        "    long_index = index"
      ],
      "metadata": {
        "id": "5WlIwMa6gqxE"
      },
      "execution_count": 37,
      "outputs": []
    },
    {
      "cell_type": "code",
      "source": [
        "expiration_dates_in_range = get_expiration_dates(raw_data, [get_future_date(30), get_future_date(50)], True)\n",
        "filtered_option_chain = get_filtered_option_chain(raw_data, [\n",
        "    {'data_type' : 'symbol', 'op' : '=', 'target' : symbol},\n",
        "    {'data_type' : 'expiration', 'op' : '=', 'target' : expiration_dates_in_range[1]},\n",
        "    {'data_type' : 'optionType', 'op' : '=', 'target' : option_type},\n",
        "    {'data_type' : 'strike', 'op' : '<=', 'target' : get_current_price(symbol)}\n",
        "    ])\n",
        "start_price = strike_price_within_delta(filtered_option_chain, -0.3, 'put')"
      ],
      "metadata": {
        "collapsed": true,
        "id": "thr7_BGFjw39",
        "outputId": "b82e3ae4-1d79-438e-902e-e1b8d664b719",
        "colab": {
          "base_uri": "https://localhost:8080/",
          "height": 216
        }
      },
      "execution_count": 11,
      "outputs": [
        {
          "output_type": "error",
          "ename": "NameError",
          "evalue": "name 'raw_data' is not defined",
          "traceback": [
            "\u001b[0;31m---------------------------------------------------------------------------\u001b[0m",
            "\u001b[0;31mNameError\u001b[0m                                 Traceback (most recent call last)",
            "\u001b[0;32m<ipython-input-11-da7ead2e4793>\u001b[0m in \u001b[0;36m<cell line: 0>\u001b[0;34m()\u001b[0m\n\u001b[0;32m----> 1\u001b[0;31m \u001b[0mexpiration_dates_in_range\u001b[0m \u001b[0;34m=\u001b[0m \u001b[0mget_expiration_dates\u001b[0m\u001b[0;34m(\u001b[0m\u001b[0mraw_data\u001b[0m\u001b[0;34m,\u001b[0m \u001b[0;34m[\u001b[0m\u001b[0mget_future_date\u001b[0m\u001b[0;34m(\u001b[0m\u001b[0;36m30\u001b[0m\u001b[0;34m)\u001b[0m\u001b[0;34m,\u001b[0m \u001b[0mget_future_date\u001b[0m\u001b[0;34m(\u001b[0m\u001b[0;36m50\u001b[0m\u001b[0;34m)\u001b[0m\u001b[0;34m]\u001b[0m\u001b[0;34m,\u001b[0m \u001b[0;32mTrue\u001b[0m\u001b[0;34m)\u001b[0m\u001b[0;34m\u001b[0m\u001b[0;34m\u001b[0m\u001b[0m\n\u001b[0m\u001b[1;32m      2\u001b[0m filtered_option_chain = get_filtered_option_chain(raw_data, [\n\u001b[1;32m      3\u001b[0m     \u001b[0;34m{\u001b[0m\u001b[0;34m'data_type'\u001b[0m \u001b[0;34m:\u001b[0m \u001b[0;34m'symbol'\u001b[0m\u001b[0;34m,\u001b[0m \u001b[0;34m'op'\u001b[0m \u001b[0;34m:\u001b[0m \u001b[0;34m'='\u001b[0m\u001b[0;34m,\u001b[0m \u001b[0;34m'target'\u001b[0m \u001b[0;34m:\u001b[0m \u001b[0msymbol\u001b[0m\u001b[0;34m}\u001b[0m\u001b[0;34m,\u001b[0m\u001b[0;34m\u001b[0m\u001b[0;34m\u001b[0m\u001b[0m\n\u001b[1;32m      4\u001b[0m     \u001b[0;34m{\u001b[0m\u001b[0;34m'data_type'\u001b[0m \u001b[0;34m:\u001b[0m \u001b[0;34m'expiration'\u001b[0m\u001b[0;34m,\u001b[0m \u001b[0;34m'op'\u001b[0m \u001b[0;34m:\u001b[0m \u001b[0;34m'='\u001b[0m\u001b[0;34m,\u001b[0m \u001b[0;34m'target'\u001b[0m \u001b[0;34m:\u001b[0m \u001b[0mexpiration_dates_in_range\u001b[0m\u001b[0;34m[\u001b[0m\u001b[0;36m1\u001b[0m\u001b[0;34m]\u001b[0m\u001b[0;34m}\u001b[0m\u001b[0;34m,\u001b[0m\u001b[0;34m\u001b[0m\u001b[0;34m\u001b[0m\u001b[0m\n\u001b[1;32m      5\u001b[0m     \u001b[0;34m{\u001b[0m\u001b[0;34m'data_type'\u001b[0m \u001b[0;34m:\u001b[0m \u001b[0;34m'optionType'\u001b[0m\u001b[0;34m,\u001b[0m \u001b[0;34m'op'\u001b[0m \u001b[0;34m:\u001b[0m \u001b[0;34m'='\u001b[0m\u001b[0;34m,\u001b[0m \u001b[0;34m'target'\u001b[0m \u001b[0;34m:\u001b[0m \u001b[0moption_type\u001b[0m\u001b[0;34m}\u001b[0m\u001b[0;34m,\u001b[0m\u001b[0;34m\u001b[0m\u001b[0;34m\u001b[0m\u001b[0m\n",
            "\u001b[0;31mNameError\u001b[0m: name 'raw_data' is not defined"
          ]
        }
      ]
    },
    {
      "cell_type": "code",
      "source": [
        "get_optimal_vertical_spread('spy', 'puts', expiration_dates_in_range[1], start_price, 300)"
      ],
      "metadata": {
        "id": "D535Hjjnm6mg",
        "outputId": "9507ac46-916c-43be-f27f-bb9a5124266c",
        "colab": {
          "base_uri": "https://localhost:8080/"
        },
        "collapsed": true
      },
      "execution_count": 27,
      "outputs": [
        {
          "output_type": "execute_result",
          "data": {
            "text/plain": [
              "{'short_strike': np.float64(510.0),\n",
              " 'short_price': np.float64(12.77),\n",
              " 'long_strike': np.float64(510.0),\n",
              " 'long_price': np.float64(12.77)}"
            ]
          },
          "metadata": {},
          "execution_count": 27
        }
      ]
    },
    {
      "cell_type": "code",
      "source": [
        "def get_optimal_strategies(symbol, raw_data , strategies, expiration_dates, max_risk):\n",
        "  symbol_current_price = get_current_price(symbol)\n",
        "  strategies_df = []\n",
        "  for strategy in strategies:\n",
        "    if strategy['name'] == 'put_vertical_spread':\n",
        "      for expiration_date in expiration_dates:\n",
        "        filtered_option_chain = get_filtered_option_chain(raw_data, [\n",
        "            {'data_type' : 'symbol', 'op' : '=', 'target' : symbol},\n",
        "            {'data_type' : 'expiration', 'op' : '=', 'target' : expiration_date},\n",
        "            {'data_type' : 'optionType', 'op' : '=', 'target' : option_type},\n",
        "            {'data_type' : 'strike', 'op' : '<=', 'target' : symbol_current_price}\n",
        "        ])\n",
        "        start_price = strike_price_within_delta(filtered_option_chain, strategy['delta_limit'], 'put')\n",
        "        optimal_put_spread = get_optimal_vertical_spread(symbol, 'puts', expiration_date, start_price, max_risk)\n",
        "        try:\n",
        "          optimal_put_spread_stats = get_vertical_spread_stats(optimal_put_spread['short_price'], optimal_put_spread['long_price'], optimal_put_spread['short_strike'], optimal_put_spread['long_strike'])\n",
        "        except RuntimeWarning:\n",
        "          optimal_put_spread_stats = {'return' : 0, 'risk': max_risk ,'rnr': 0}\n",
        "        strategies_df.append({\n",
        "            'strategy_name': strategy['name'],\n",
        "            'expiration_date': expiration_date,\n",
        "            'return': optimal_put_spread_stats['return'],\n",
        "            'risk': optimal_put_spread_stats['risk'],\n",
        "            'rnr': optimal_put_spread_stats['rnr'],\n",
        "            'max_risk': max_risk,\n",
        "            'legs': optimal_put_spread\n",
        "        })\n",
        "    return pd.DataFrame(strategies_df)"
      ],
      "metadata": {
        "id": "rwZKYZToh2tk"
      },
      "execution_count": 41,
      "outputs": []
    },
    {
      "cell_type": "code",
      "source": [
        "raw_data = get_raw_options_data('spy')\n",
        "symbol = 'spy'\n",
        "option_type = 'puts'\n",
        "expiration_dates_in_range = get_expiration_dates(raw_data, [get_future_date(30), get_future_date(50)], True)\n",
        "strategies = [{'name' : 'put_vertical_spread', 'delta_limit' : -0.3}]"
      ],
      "metadata": {
        "collapsed": true,
        "id": "asSqVfwK15JO"
      },
      "execution_count": 25,
      "outputs": []
    },
    {
      "cell_type": "code",
      "source": [
        "spy_optimal_strategies = get_optimal_strategies('spy', raw_data, strategies, expiration_dates_in_range, 300)"
      ],
      "metadata": {
        "id": "OM9bCawyhM__",
        "outputId": "ef3dbfb5-a6d5-45b6-9401-5f630ffc08fd",
        "colab": {
          "base_uri": "https://localhost:8080/"
        }
      },
      "execution_count": 39,
      "outputs": [
        {
          "output_type": "stream",
          "name": "stderr",
          "text": [
            "[*********************100%***********************]  1 of 1 completed\n",
            "[*********************100%***********************]  1 of 1 completed\n",
            "[*********************100%***********************]  1 of 1 completed\n",
            "[*********************100%***********************]  1 of 1 completed\n"
          ]
        }
      ]
    },
    {
      "cell_type": "code",
      "source": [
        "spy_optimal_strategies"
      ],
      "metadata": {
        "id": "IQPYTY8fj-BT",
        "outputId": "04c7e73c-bf64-4226-c552-e326537ce6a0",
        "colab": {
          "base_uri": "https://localhost:8080/",
          "height": 143
        }
      },
      "execution_count": 40,
      "outputs": [
        {
          "output_type": "execute_result",
          "data": {
            "text/plain": [
              "         strategy_name expiration_date  return   risk       rnr  max_risk  \\\n",
              "0  put_vertical_spread      2025-05-16    42.0  258.0  0.162791       300   \n",
              "1  put_vertical_spread      2025-05-23     0.0    0.0  0.000000       300   \n",
              "2  put_vertical_spread      2025-05-30     0.0    0.0  0.000000       300   \n",
              "\n",
              "                                                legs  \n",
              "0  {'short_strike': 511.0, 'short_price': 12.42, ...  \n",
              "1  {'short_strike': 510.0, 'short_price': 12.77, ...  \n",
              "2  {'short_strike': 510.0, 'short_price': 14.45, ...  "
            ],
            "text/html": [
              "\n",
              "  <div id=\"df-6c21bddd-4787-4a15-b661-9e4e84b4d12f\" class=\"colab-df-container\">\n",
              "    <div>\n",
              "<style scoped>\n",
              "    .dataframe tbody tr th:only-of-type {\n",
              "        vertical-align: middle;\n",
              "    }\n",
              "\n",
              "    .dataframe tbody tr th {\n",
              "        vertical-align: top;\n",
              "    }\n",
              "\n",
              "    .dataframe thead th {\n",
              "        text-align: right;\n",
              "    }\n",
              "</style>\n",
              "<table border=\"1\" class=\"dataframe\">\n",
              "  <thead>\n",
              "    <tr style=\"text-align: right;\">\n",
              "      <th></th>\n",
              "      <th>strategy_name</th>\n",
              "      <th>expiration_date</th>\n",
              "      <th>return</th>\n",
              "      <th>risk</th>\n",
              "      <th>rnr</th>\n",
              "      <th>max_risk</th>\n",
              "      <th>legs</th>\n",
              "    </tr>\n",
              "  </thead>\n",
              "  <tbody>\n",
              "    <tr>\n",
              "      <th>0</th>\n",
              "      <td>put_vertical_spread</td>\n",
              "      <td>2025-05-16</td>\n",
              "      <td>42.0</td>\n",
              "      <td>258.0</td>\n",
              "      <td>0.162791</td>\n",
              "      <td>300</td>\n",
              "      <td>{'short_strike': 511.0, 'short_price': 12.42, ...</td>\n",
              "    </tr>\n",
              "    <tr>\n",
              "      <th>1</th>\n",
              "      <td>put_vertical_spread</td>\n",
              "      <td>2025-05-23</td>\n",
              "      <td>0.0</td>\n",
              "      <td>0.0</td>\n",
              "      <td>0.000000</td>\n",
              "      <td>300</td>\n",
              "      <td>{'short_strike': 510.0, 'short_price': 12.77, ...</td>\n",
              "    </tr>\n",
              "    <tr>\n",
              "      <th>2</th>\n",
              "      <td>put_vertical_spread</td>\n",
              "      <td>2025-05-30</td>\n",
              "      <td>0.0</td>\n",
              "      <td>0.0</td>\n",
              "      <td>0.000000</td>\n",
              "      <td>300</td>\n",
              "      <td>{'short_strike': 510.0, 'short_price': 14.45, ...</td>\n",
              "    </tr>\n",
              "  </tbody>\n",
              "</table>\n",
              "</div>\n",
              "    <div class=\"colab-df-buttons\">\n",
              "\n",
              "  <div class=\"colab-df-container\">\n",
              "    <button class=\"colab-df-convert\" onclick=\"convertToInteractive('df-6c21bddd-4787-4a15-b661-9e4e84b4d12f')\"\n",
              "            title=\"Convert this dataframe to an interactive table.\"\n",
              "            style=\"display:none;\">\n",
              "\n",
              "  <svg xmlns=\"http://www.w3.org/2000/svg\" height=\"24px\" viewBox=\"0 -960 960 960\">\n",
              "    <path d=\"M120-120v-720h720v720H120Zm60-500h600v-160H180v160Zm220 220h160v-160H400v160Zm0 220h160v-160H400v160ZM180-400h160v-160H180v160Zm440 0h160v-160H620v160ZM180-180h160v-160H180v160Zm440 0h160v-160H620v160Z\"/>\n",
              "  </svg>\n",
              "    </button>\n",
              "\n",
              "  <style>\n",
              "    .colab-df-container {\n",
              "      display:flex;\n",
              "      gap: 12px;\n",
              "    }\n",
              "\n",
              "    .colab-df-convert {\n",
              "      background-color: #E8F0FE;\n",
              "      border: none;\n",
              "      border-radius: 50%;\n",
              "      cursor: pointer;\n",
              "      display: none;\n",
              "      fill: #1967D2;\n",
              "      height: 32px;\n",
              "      padding: 0 0 0 0;\n",
              "      width: 32px;\n",
              "    }\n",
              "\n",
              "    .colab-df-convert:hover {\n",
              "      background-color: #E2EBFA;\n",
              "      box-shadow: 0px 1px 2px rgba(60, 64, 67, 0.3), 0px 1px 3px 1px rgba(60, 64, 67, 0.15);\n",
              "      fill: #174EA6;\n",
              "    }\n",
              "\n",
              "    .colab-df-buttons div {\n",
              "      margin-bottom: 4px;\n",
              "    }\n",
              "\n",
              "    [theme=dark] .colab-df-convert {\n",
              "      background-color: #3B4455;\n",
              "      fill: #D2E3FC;\n",
              "    }\n",
              "\n",
              "    [theme=dark] .colab-df-convert:hover {\n",
              "      background-color: #434B5C;\n",
              "      box-shadow: 0px 1px 3px 1px rgba(0, 0, 0, 0.15);\n",
              "      filter: drop-shadow(0px 1px 2px rgba(0, 0, 0, 0.3));\n",
              "      fill: #FFFFFF;\n",
              "    }\n",
              "  </style>\n",
              "\n",
              "    <script>\n",
              "      const buttonEl =\n",
              "        document.querySelector('#df-6c21bddd-4787-4a15-b661-9e4e84b4d12f button.colab-df-convert');\n",
              "      buttonEl.style.display =\n",
              "        google.colab.kernel.accessAllowed ? 'block' : 'none';\n",
              "\n",
              "      async function convertToInteractive(key) {\n",
              "        const element = document.querySelector('#df-6c21bddd-4787-4a15-b661-9e4e84b4d12f');\n",
              "        const dataTable =\n",
              "          await google.colab.kernel.invokeFunction('convertToInteractive',\n",
              "                                                    [key], {});\n",
              "        if (!dataTable) return;\n",
              "\n",
              "        const docLinkHtml = 'Like what you see? Visit the ' +\n",
              "          '<a target=\"_blank\" href=https://colab.research.google.com/notebooks/data_table.ipynb>data table notebook</a>'\n",
              "          + ' to learn more about interactive tables.';\n",
              "        element.innerHTML = '';\n",
              "        dataTable['output_type'] = 'display_data';\n",
              "        await google.colab.output.renderOutput(dataTable, element);\n",
              "        const docLink = document.createElement('div');\n",
              "        docLink.innerHTML = docLinkHtml;\n",
              "        element.appendChild(docLink);\n",
              "      }\n",
              "    </script>\n",
              "  </div>\n",
              "\n",
              "\n",
              "<div id=\"df-3dea4de0-6db6-41b6-a69c-aa316ec90b9e\">\n",
              "  <button class=\"colab-df-quickchart\" onclick=\"quickchart('df-3dea4de0-6db6-41b6-a69c-aa316ec90b9e')\"\n",
              "            title=\"Suggest charts\"\n",
              "            style=\"display:none;\">\n",
              "\n",
              "<svg xmlns=\"http://www.w3.org/2000/svg\" height=\"24px\"viewBox=\"0 0 24 24\"\n",
              "     width=\"24px\">\n",
              "    <g>\n",
              "        <path d=\"M19 3H5c-1.1 0-2 .9-2 2v14c0 1.1.9 2 2 2h14c1.1 0 2-.9 2-2V5c0-1.1-.9-2-2-2zM9 17H7v-7h2v7zm4 0h-2V7h2v10zm4 0h-2v-4h2v4z\"/>\n",
              "    </g>\n",
              "</svg>\n",
              "  </button>\n",
              "\n",
              "<style>\n",
              "  .colab-df-quickchart {\n",
              "      --bg-color: #E8F0FE;\n",
              "      --fill-color: #1967D2;\n",
              "      --hover-bg-color: #E2EBFA;\n",
              "      --hover-fill-color: #174EA6;\n",
              "      --disabled-fill-color: #AAA;\n",
              "      --disabled-bg-color: #DDD;\n",
              "  }\n",
              "\n",
              "  [theme=dark] .colab-df-quickchart {\n",
              "      --bg-color: #3B4455;\n",
              "      --fill-color: #D2E3FC;\n",
              "      --hover-bg-color: #434B5C;\n",
              "      --hover-fill-color: #FFFFFF;\n",
              "      --disabled-bg-color: #3B4455;\n",
              "      --disabled-fill-color: #666;\n",
              "  }\n",
              "\n",
              "  .colab-df-quickchart {\n",
              "    background-color: var(--bg-color);\n",
              "    border: none;\n",
              "    border-radius: 50%;\n",
              "    cursor: pointer;\n",
              "    display: none;\n",
              "    fill: var(--fill-color);\n",
              "    height: 32px;\n",
              "    padding: 0;\n",
              "    width: 32px;\n",
              "  }\n",
              "\n",
              "  .colab-df-quickchart:hover {\n",
              "    background-color: var(--hover-bg-color);\n",
              "    box-shadow: 0 1px 2px rgba(60, 64, 67, 0.3), 0 1px 3px 1px rgba(60, 64, 67, 0.15);\n",
              "    fill: var(--button-hover-fill-color);\n",
              "  }\n",
              "\n",
              "  .colab-df-quickchart-complete:disabled,\n",
              "  .colab-df-quickchart-complete:disabled:hover {\n",
              "    background-color: var(--disabled-bg-color);\n",
              "    fill: var(--disabled-fill-color);\n",
              "    box-shadow: none;\n",
              "  }\n",
              "\n",
              "  .colab-df-spinner {\n",
              "    border: 2px solid var(--fill-color);\n",
              "    border-color: transparent;\n",
              "    border-bottom-color: var(--fill-color);\n",
              "    animation:\n",
              "      spin 1s steps(1) infinite;\n",
              "  }\n",
              "\n",
              "  @keyframes spin {\n",
              "    0% {\n",
              "      border-color: transparent;\n",
              "      border-bottom-color: var(--fill-color);\n",
              "      border-left-color: var(--fill-color);\n",
              "    }\n",
              "    20% {\n",
              "      border-color: transparent;\n",
              "      border-left-color: var(--fill-color);\n",
              "      border-top-color: var(--fill-color);\n",
              "    }\n",
              "    30% {\n",
              "      border-color: transparent;\n",
              "      border-left-color: var(--fill-color);\n",
              "      border-top-color: var(--fill-color);\n",
              "      border-right-color: var(--fill-color);\n",
              "    }\n",
              "    40% {\n",
              "      border-color: transparent;\n",
              "      border-right-color: var(--fill-color);\n",
              "      border-top-color: var(--fill-color);\n",
              "    }\n",
              "    60% {\n",
              "      border-color: transparent;\n",
              "      border-right-color: var(--fill-color);\n",
              "    }\n",
              "    80% {\n",
              "      border-color: transparent;\n",
              "      border-right-color: var(--fill-color);\n",
              "      border-bottom-color: var(--fill-color);\n",
              "    }\n",
              "    90% {\n",
              "      border-color: transparent;\n",
              "      border-bottom-color: var(--fill-color);\n",
              "    }\n",
              "  }\n",
              "</style>\n",
              "\n",
              "  <script>\n",
              "    async function quickchart(key) {\n",
              "      const quickchartButtonEl =\n",
              "        document.querySelector('#' + key + ' button');\n",
              "      quickchartButtonEl.disabled = true;  // To prevent multiple clicks.\n",
              "      quickchartButtonEl.classList.add('colab-df-spinner');\n",
              "      try {\n",
              "        const charts = await google.colab.kernel.invokeFunction(\n",
              "            'suggestCharts', [key], {});\n",
              "      } catch (error) {\n",
              "        console.error('Error during call to suggestCharts:', error);\n",
              "      }\n",
              "      quickchartButtonEl.classList.remove('colab-df-spinner');\n",
              "      quickchartButtonEl.classList.add('colab-df-quickchart-complete');\n",
              "    }\n",
              "    (() => {\n",
              "      let quickchartButtonEl =\n",
              "        document.querySelector('#df-3dea4de0-6db6-41b6-a69c-aa316ec90b9e button');\n",
              "      quickchartButtonEl.style.display =\n",
              "        google.colab.kernel.accessAllowed ? 'block' : 'none';\n",
              "    })();\n",
              "  </script>\n",
              "</div>\n",
              "\n",
              "  <div id=\"id_9d42e218-a988-48e8-bfa9-3155ae3410a8\">\n",
              "    <style>\n",
              "      .colab-df-generate {\n",
              "        background-color: #E8F0FE;\n",
              "        border: none;\n",
              "        border-radius: 50%;\n",
              "        cursor: pointer;\n",
              "        display: none;\n",
              "        fill: #1967D2;\n",
              "        height: 32px;\n",
              "        padding: 0 0 0 0;\n",
              "        width: 32px;\n",
              "      }\n",
              "\n",
              "      .colab-df-generate:hover {\n",
              "        background-color: #E2EBFA;\n",
              "        box-shadow: 0px 1px 2px rgba(60, 64, 67, 0.3), 0px 1px 3px 1px rgba(60, 64, 67, 0.15);\n",
              "        fill: #174EA6;\n",
              "      }\n",
              "\n",
              "      [theme=dark] .colab-df-generate {\n",
              "        background-color: #3B4455;\n",
              "        fill: #D2E3FC;\n",
              "      }\n",
              "\n",
              "      [theme=dark] .colab-df-generate:hover {\n",
              "        background-color: #434B5C;\n",
              "        box-shadow: 0px 1px 3px 1px rgba(0, 0, 0, 0.15);\n",
              "        filter: drop-shadow(0px 1px 2px rgba(0, 0, 0, 0.3));\n",
              "        fill: #FFFFFF;\n",
              "      }\n",
              "    </style>\n",
              "    <button class=\"colab-df-generate\" onclick=\"generateWithVariable('spy_optimal_strategies')\"\n",
              "            title=\"Generate code using this dataframe.\"\n",
              "            style=\"display:none;\">\n",
              "\n",
              "  <svg xmlns=\"http://www.w3.org/2000/svg\" height=\"24px\"viewBox=\"0 0 24 24\"\n",
              "       width=\"24px\">\n",
              "    <path d=\"M7,19H8.4L18.45,9,17,7.55,7,17.6ZM5,21V16.75L18.45,3.32a2,2,0,0,1,2.83,0l1.4,1.43a1.91,1.91,0,0,1,.58,1.4,1.91,1.91,0,0,1-.58,1.4L9.25,21ZM18.45,9,17,7.55Zm-12,3A5.31,5.31,0,0,0,4.9,8.1,5.31,5.31,0,0,0,1,6.5,5.31,5.31,0,0,0,4.9,4.9,5.31,5.31,0,0,0,6.5,1,5.31,5.31,0,0,0,8.1,4.9,5.31,5.31,0,0,0,12,6.5,5.46,5.46,0,0,0,6.5,12Z\"/>\n",
              "  </svg>\n",
              "    </button>\n",
              "    <script>\n",
              "      (() => {\n",
              "      const buttonEl =\n",
              "        document.querySelector('#id_9d42e218-a988-48e8-bfa9-3155ae3410a8 button.colab-df-generate');\n",
              "      buttonEl.style.display =\n",
              "        google.colab.kernel.accessAllowed ? 'block' : 'none';\n",
              "\n",
              "      buttonEl.onclick = () => {\n",
              "        google.colab.notebook.generateWithVariable('spy_optimal_strategies');\n",
              "      }\n",
              "      })();\n",
              "    </script>\n",
              "  </div>\n",
              "\n",
              "    </div>\n",
              "  </div>\n"
            ],
            "application/vnd.google.colaboratory.intrinsic+json": {
              "type": "dataframe",
              "variable_name": "spy_optimal_strategies",
              "summary": "{\n  \"name\": \"spy_optimal_strategies\",\n  \"rows\": 3,\n  \"fields\": [\n    {\n      \"column\": \"strategy_name\",\n      \"properties\": {\n        \"dtype\": \"category\",\n        \"num_unique_values\": 1,\n        \"samples\": [\n          \"put_vertical_spread\"\n        ],\n        \"semantic_type\": \"\",\n        \"description\": \"\"\n      }\n    },\n    {\n      \"column\": \"expiration_date\",\n      \"properties\": {\n        \"dtype\": \"object\",\n        \"num_unique_values\": 3,\n        \"samples\": [\n          \"2025-05-16\"\n        ],\n        \"semantic_type\": \"\",\n        \"description\": \"\"\n      }\n    },\n    {\n      \"column\": \"return\",\n      \"properties\": {\n        \"dtype\": \"number\",\n        \"std\": 24.248711305964278,\n        \"min\": 0.0,\n        \"max\": 41.99999999999999,\n        \"num_unique_values\": 2,\n        \"samples\": [\n          0.0\n        ],\n        \"semantic_type\": \"\",\n        \"description\": \"\"\n      }\n    },\n    {\n      \"column\": \"risk\",\n      \"properties\": {\n        \"dtype\": \"number\",\n        \"std\": 148.95636945092346,\n        \"min\": 0.0,\n        \"max\": 258.0,\n        \"num_unique_values\": 2,\n        \"samples\": [\n          0.0\n        ],\n        \"semantic_type\": \"\",\n        \"description\": \"\"\n      }\n    },\n    {\n      \"column\": \"rnr\",\n      \"properties\": {\n        \"dtype\": \"number\",\n        \"std\": 0.09398725312389257,\n        \"min\": 0.0,\n        \"max\": 0.1627906976744186,\n        \"num_unique_values\": 2,\n        \"samples\": [\n          0.0\n        ],\n        \"semantic_type\": \"\",\n        \"description\": \"\"\n      }\n    },\n    {\n      \"column\": \"max_risk\",\n      \"properties\": {\n        \"dtype\": \"number\",\n        \"std\": 0,\n        \"min\": 300,\n        \"max\": 300,\n        \"num_unique_values\": 1,\n        \"samples\": [\n          300\n        ],\n        \"semantic_type\": \"\",\n        \"description\": \"\"\n      }\n    },\n    {\n      \"column\": \"legs\",\n      \"properties\": {\n        \"dtype\": \"object\",\n        \"semantic_type\": \"\",\n        \"description\": \"\"\n      }\n    }\n  ]\n}"
            }
          },
          "metadata": {},
          "execution_count": 40
        }
      ]
    },
    {
      "cell_type": "markdown",
      "source": [
        "# Custom methods for backtesting"
      ],
      "metadata": {
        "id": "cyysGXET_GhQ"
      }
    },
    {
      "cell_type": "code",
      "source": [
        "# prompt: given a firestore collection reference , get all documents from that collection\n",
        "\n",
        "def get_all_documents(collection_ref):\n",
        "  \"\"\"Retrieves all documents from a Firestore collection.\n",
        "\n",
        "  Args:\n",
        "    collection_ref: A Firestore collection reference.\n",
        "\n",
        "  Returns:\n",
        "    A list of dictionaries, where each dictionary represents a document.\n",
        "  \"\"\"\n",
        "  all_documents = []\n",
        "  docs = collection_ref.stream()\n",
        "  for doc in docs:\n",
        "    all_documents.append(doc.to_dict())\n",
        "  return all_documents\n",
        "\n",
        "\n",
        "# Example usage:\n",
        "collection_ref = db.collection('QQQ').document('19-03-2025').collection('2025-03-21')\n",
        "all_docs = get_all_documents(collection_ref)\n",
        "all_docs"
      ],
      "metadata": {
        "id": "9uX2aoGnUUio",
        "collapsed": true,
        "outputId": "bafda039-cf8b-4ed0-b3df-7285d66dbe61",
        "colab": {
          "base_uri": "https://localhost:8080/",
          "height": 216
        }
      },
      "execution_count": null,
      "outputs": [
        {
          "output_type": "error",
          "ename": "NameError",
          "evalue": "name 'db' is not defined",
          "traceback": [
            "\u001b[0;31m---------------------------------------------------------------------------\u001b[0m",
            "\u001b[0;31mNameError\u001b[0m                                 Traceback (most recent call last)",
            "\u001b[0;32m<ipython-input-9-3dcd7f3d708e>\u001b[0m in \u001b[0;36m<cell line: 0>\u001b[0;34m()\u001b[0m\n\u001b[1;32m     18\u001b[0m \u001b[0;34m\u001b[0m\u001b[0m\n\u001b[1;32m     19\u001b[0m \u001b[0;31m# Example usage:\u001b[0m\u001b[0;34m\u001b[0m\u001b[0;34m\u001b[0m\u001b[0m\n\u001b[0;32m---> 20\u001b[0;31m \u001b[0mcollection_ref\u001b[0m \u001b[0;34m=\u001b[0m \u001b[0mdb\u001b[0m\u001b[0;34m.\u001b[0m\u001b[0mcollection\u001b[0m\u001b[0;34m(\u001b[0m\u001b[0;34m'QQQ'\u001b[0m\u001b[0;34m)\u001b[0m\u001b[0;34m.\u001b[0m\u001b[0mdocument\u001b[0m\u001b[0;34m(\u001b[0m\u001b[0;34m'19-03-2025'\u001b[0m\u001b[0;34m)\u001b[0m\u001b[0;34m.\u001b[0m\u001b[0mcollection\u001b[0m\u001b[0;34m(\u001b[0m\u001b[0;34m'2025-03-21'\u001b[0m\u001b[0;34m)\u001b[0m\u001b[0;34m\u001b[0m\u001b[0;34m\u001b[0m\u001b[0m\n\u001b[0m\u001b[1;32m     21\u001b[0m \u001b[0mall_docs\u001b[0m \u001b[0;34m=\u001b[0m \u001b[0mget_all_documents\u001b[0m\u001b[0;34m(\u001b[0m\u001b[0mcollection_ref\u001b[0m\u001b[0;34m)\u001b[0m\u001b[0;34m\u001b[0m\u001b[0;34m\u001b[0m\u001b[0m\n\u001b[1;32m     22\u001b[0m \u001b[0mall_docs\u001b[0m\u001b[0;34m\u001b[0m\u001b[0;34m\u001b[0m\u001b[0m\n",
            "\u001b[0;31mNameError\u001b[0m: name 'db' is not defined"
          ]
        }
      ]
    },
    {
      "cell_type": "code",
      "source": [],
      "metadata": {
        "id": "4xOpNRK_IfUV"
      },
      "execution_count": null,
      "outputs": []
    },
    {
      "cell_type": "code",
      "source": [
        "def get_next_expiry_date(symbol, upload_date, DTE):\n",
        "  '''\n",
        "    Params : symbol e.g. AAPL , upload_date : upload date to get data from in yy-mm-dd format , DTE : days to expiry\n",
        "    returns : next expiry date in yy-mm-dd format which can be a document id for an option chain.\n",
        "  '''\n",
        "  try:\n",
        "    upload_date_collection_ref = db.collection(symbol).document(upload_date)\n",
        "    expiry_dates = [x.id for x in upload_date_collection_ref.collections()]\n",
        "    expiry_dates_formatted = [datetime.strptime(date_str, '%Y-%m-%d') for date_str in expiry_dates]\n",
        "    upload_date_add_dte = datetime.strptime(upload_date, \"%d-%m-%Y\") + timedelta(days=DTE)\n",
        "    upload_date_add_dte = upload_date_add_dte\n",
        "    expiry_dates_formatted = [x for x in expiry_dates_formatted if x > upload_date_add_dte]\n",
        "    expiry_dates_formatted.sort()\n",
        "    expiry_date = expiry_dates_formatted[0].strftime('%Y-%m-%d')\n",
        "  except Exception as e:\n",
        "    print(e)\n",
        "    return 'na'\n",
        "  return expiry_date"
      ],
      "metadata": {
        "id": "_vQNOAUoO9Ct"
      },
      "execution_count": null,
      "outputs": []
    },
    {
      "cell_type": "markdown",
      "source": [
        "# Option Backtesting from OptionStack"
      ],
      "metadata": {
        "id": "yq48ovB4fHCM"
      }
    },
    {
      "cell_type": "code",
      "source": [
        "def calc_return(symbol, start_date = '2023-12-31', end_date = '2024-03-28'):\n",
        "  prices = yf.download(symbol, start=start_date, end=end_date)['Close']\n",
        "  return np.array(((prices.iloc[-1] - prices.iloc[0])/prices.iloc[0]))[0]"
      ],
      "metadata": {
        "id": "0vexI1vmnl3Y"
      },
      "execution_count": null,
      "outputs": []
    },
    {
      "cell_type": "code",
      "source": [
        "underlying_returns = { 'spy': calc_return('spy'), 'amd' : calc_return('amd'), 'tlt' : calc_return('tlt')}\n",
        "spy_metrics = {'symbol': \"spy\", 'no_trades': 7, 'win_count': 7 , 'lose_count': 0 , 'net_return': 0.53, 'max_drawdown': -0.07, 'avg_gain': 7.6 , 'avg_loss': 0}\n",
        "amd_metrics ={'symbol': \"amd\", 'no_trades': 9, 'win_count': 8 , 'lose_count': 1 , 'net_return': 2.17, 'max_drawdown': -1.97, 'avg_gain': 47 , 'avg_loss': -162}\n",
        "tlt_metrics ={'symbol': \"tlt\", 'no_trades': 5, 'win_count': 3 , 'lose_count': 2 , 'net_return': -0.09, 'max_drawdown': -0.72, 'avg_gain': 7.6 , 'avg_loss': 0}"
      ],
      "metadata": {
        "colab": {
          "base_uri": "https://localhost:8080/"
        },
        "id": "wkh4HSKdmTV4",
        "outputId": "b0280705-51c5-4873-f11d-d5ae88eb30fc"
      },
      "execution_count": null,
      "outputs": [
        {
          "output_type": "stream",
          "name": "stderr",
          "text": [
            "[*********************100%***********************]  1 of 1 completed\n",
            "[*********************100%***********************]  1 of 1 completed\n",
            "[*********************100%***********************]  1 of 1 completed\n"
          ]
        }
      ]
    },
    {
      "cell_type": "code",
      "source": [
        "def calculate_net_metrics(args, underlying_returns):\n",
        "  #Calculates weighted average of net metrics from multiple backtests.\n",
        "\n",
        "  total_trades = np.sum([x['no_trades'] for x in args])\n",
        "  net_metrics = {'no_trades': 0, 'win_count': 0, 'lose_count': 0, 'net_return': 0, 'max_drawdown': 0, 'avg_gain': 0 , 'avg_loss' : 0, 'return_vs_underlying': 0}\n",
        "\n",
        "  for metric in args:\n",
        "    importance = metric['no_trades'] / total_trades\n",
        "\n",
        "    for key in net_metrics:\n",
        "      if key in metric:\n",
        "        if key == 'no_trades' or 'win_count' or 'lose_count':\n",
        "          net_metrics[key] += metric[key]\n",
        "        else:\n",
        "          net_metrics[key] += metric[key] * importance\n",
        "    net_metrics['return_vs_underlying'] = net_metrics['net_return'] - underlying_returns[metric['symbol']]\n",
        "  return net_metrics"
      ],
      "metadata": {
        "id": "LdOp0YiRjv6o"
      },
      "execution_count": null,
      "outputs": []
    },
    {
      "cell_type": "code",
      "source": [
        "calculate_net_metrics([spy_metrics, amd_metrics, tlt_metrics], underlying_returns)"
      ],
      "metadata": {
        "colab": {
          "base_uri": "https://localhost:8080/"
        },
        "id": "as8L_gODqQ1A",
        "outputId": "bddc4a86-d44c-4e6e-c55a-931871a99af3",
        "collapsed": true
      },
      "execution_count": null,
      "outputs": [
        {
          "output_type": "execute_result",
          "data": {
            "text/plain": [
              "{'no_trades': np.float64(7.909090909090908),\n",
              " 'win_count': np.float64(7.0),\n",
              " 'lose_count': np.float64(0.9090909090909091),\n",
              " 'net_return': np.float64(1.3081818181818181),\n",
              " 'max_drawdown': np.float64(-0.9436363636363636),\n",
              " 'return_vs_underlying': np.float64(1.3387667848621194)}"
            ]
          },
          "metadata": {},
          "execution_count": 23
        }
      ]
    },
    {
      "cell_type": "markdown",
      "source": [
        "# Miscellaneous"
      ],
      "metadata": {
        "id": "P0ZojTzQ_cfE"
      }
    },
    {
      "cell_type": "code",
      "execution_count": null,
      "metadata": {
        "id": "k1BmyXhnmB37"
      },
      "outputs": [],
      "source": [
        "def get_earnings_moves(mode, symbol, interval = 5):\n",
        "  loading_stat(symbol, assets_list)\n",
        "  url = 'https://www.marketbeat.com/stocks/' + valid_url(symbol) + '/' + symbol + '/earnings/'\n",
        "  r = requests.get(url)\n",
        "  soup=bs4.BeautifulSoup(r.text, \"lxml\")\n",
        "  try:\n",
        "    data = soup.find_all(\"table\", {'id':'earnings-history'})[0]\n",
        "    data = data.find_all('tr')\n",
        "    if mode == 'earnings_data':\n",
        "      earnings_dates = []\n",
        "      for x in range(2,8):\n",
        "        earnings_dates.append(data[x].find_all('td')[0].text)\n",
        "      before_earnings_moves = []\n",
        "      after_earnings_moves = []\n",
        "      for date in earnings_dates:\n",
        "        example_date = datetime_obj.strptime(date, '%m/%d/%Y').strftime('%Y-%m-%d')\n",
        "        date_format = '%Y-%m-%d'\n",
        "        date_obj  = datetime_obj.strptime(example_date, date_format)\n",
        "        date_obj_prev = date_obj - datetime.timedelta(interval)\n",
        "        date_obj_prev_str = str(date_obj_prev.year) + '-' + str(date_obj_prev.month) + '-' + str(date_obj_prev.day)\n",
        "        prices = pdr.get_data_yahoo(symbol, date_obj_prev_str).Close\n",
        "        before_earnings_moves.append(max_move(prices.iloc[:interval]))\n",
        "        after_earnings_moves.append(max_move(prices.iloc[interval : interval + 5]))\n",
        "        result = before_earnings_moves, after_earnings_moves\n",
        "    elif mode == 'earnings_eta':\n",
        "      next_earnings = data[1].find_all('td')[0].text[:-10].replace(' ','')\n",
        "      today = datetime.date.today()\n",
        "      today_with_time = datetime_obj(\n",
        "          year=today.year,\n",
        "          month=today.month,\n",
        "          day=today.day,\n",
        "      )\n",
        "      date_format = \"%m/%d/%Y\"\n",
        "      next_earnings_1 = datetime_obj.strptime(next_earnings, date_format)\n",
        "      diff = next_earnings_1 - today_with_time\n",
        "      result = diff.days\n",
        "  except:\n",
        "    result = 'na'\n",
        "  return result"
      ]
    },
    {
      "cell_type": "code",
      "source": [
        "import matplotlib.pyplot as plt\n",
        "\n",
        "# Extract data for the first plot (strike vs delta)\n",
        "strikes_put = [item['strike'] for item in nvda_data_8_3_40dte['put']]\n",
        "deltas_put = [item['delta'] for item in nvda_data_8_3_40dte['put']]\n",
        "strikes_call = [item['strike'] for item in nvda_data_8_3_40dte['call']]\n",
        "deltas_call = [item['delta'] for item in nvda_data_8_3_40dte['call']]\n",
        "\n",
        "# Create the first scatter plot\n",
        "plt.figure(figsize=(8, 6))\n",
        "plt.scatter(strikes_put, deltas_put, color='red', label='Put Options') #Color Put options red\n",
        "plt.scatter(strikes_call, deltas_call, color='blue', label='Call Options') #Color Call options blue\n",
        "plt.xlabel('Strike Price')\n",
        "plt.ylabel('Delta')\n",
        "plt.title('Strike Price vs. Delta for NVDA Options')\n",
        "plt.grid(True)\n",
        "plt.legend()\n",
        "plt.show()\n",
        "\n",
        "prices_put = [item['price'] for item in nvda_data_8_3_40dte['put']]\n",
        "prices_call = [item['price'] for item in nvda_data_8_3_40dte['call']]\n",
        "\n",
        "# Create the second scatter plot\n",
        "plt.figure(figsize=(8, 6))\n",
        "plt.scatter(strikes_put, prices_put, color='red', label='Put Options') #Color Put options red\n",
        "plt.scatter(strikes_call, prices_call, color='blue', label='Call Options') #Color Call options blue\n",
        "plt.xlabel('Strike Price')\n",
        "plt.ylabel('Price')\n",
        "plt.title('Strike Price vs. Price for NVDA Options')\n",
        "plt.grid(True)\n",
        "plt.legend() # Add a legend to differentiate the colors\n",
        "plt.show()\n"
      ],
      "metadata": {
        "colab": {
          "base_uri": "https://localhost:8080/",
          "height": 1000
        },
        "collapsed": true,
        "id": "xC4b7lg1TOjd",
        "outputId": "addd4aa7-3115-4d26-994d-f4d7eb33a37d"
      },
      "execution_count": null,
      "outputs": [
        {
          "output_type": "display_data",
          "data": {
            "text/plain": [
              "<Figure size 800x600 with 1 Axes>"
            ],
            "image/png": "[encoded data removed]"
          },
          "metadata": {}
        },
        {
          "output_type": "display_data",
          "data": {
            "text/plain": [
              "<Figure size 800x600 with 1 Axes>"
            ],
            "image/png": "[encoded data removed]"
          },
          "metadata": {}
        }
      ]
    }
  ],
  "metadata": {
    "colab": {
      "provenance": [],
      "toc_visible": true
    },
    "kernelspec": {
      "display_name": "Python 3",
      "name": "python3"
    },
    "language_info": {
      "name": "python"
    }
  },
  "nbformat": 4,
  "nbformat_minor": 0
}